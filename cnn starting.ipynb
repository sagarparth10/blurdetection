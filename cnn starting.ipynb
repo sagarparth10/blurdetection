{
 "cells": [
  {
   "cell_type": "code",
   "execution_count": 2,
   "metadata": {},
   "outputs": [],
   "source": [
    "import pandas as pd"
   ]
  },
  {
   "cell_type": "code",
   "execution_count": 3,
   "metadata": {},
   "outputs": [],
   "source": [
    "import numpy as np"
   ]
  },
  {
   "cell_type": "code",
   "execution_count": 4,
   "metadata": {},
   "outputs": [],
   "source": [
    "import os\n",
    "import pickle"
   ]
  },
  {
   "cell_type": "code",
   "execution_count": 5,
   "metadata": {},
   "outputs": [
    {
     "name": "stderr",
     "output_type": "stream",
     "text": [
      "C:\\Users\\hp\\Anaconda3\\lib\\site-packages\\h5py\\__init__.py:36: FutureWarning: Conversion of the second argument of issubdtype from `float` to `np.floating` is deprecated. In future, it will be treated as `np.float64 == np.dtype(float).type`.\n",
      "  from ._conv import register_converters as _register_converters\n",
      "Using TensorFlow backend.\n",
      "C:\\Users\\hp\\Anaconda3\\lib\\site-packages\\tensorflow\\python\\framework\\dtypes.py:526: FutureWarning: Passing (type, 1) or '1type' as a synonym of type is deprecated; in a future version of numpy, it will be understood as (type, (1,)) / '(1,)type'.\n",
      "  _np_qint8 = np.dtype([(\"qint8\", np.int8, 1)])\n",
      "C:\\Users\\hp\\Anaconda3\\lib\\site-packages\\tensorflow\\python\\framework\\dtypes.py:527: FutureWarning: Passing (type, 1) or '1type' as a synonym of type is deprecated; in a future version of numpy, it will be understood as (type, (1,)) / '(1,)type'.\n",
      "  _np_quint8 = np.dtype([(\"quint8\", np.uint8, 1)])\n",
      "C:\\Users\\hp\\Anaconda3\\lib\\site-packages\\tensorflow\\python\\framework\\dtypes.py:528: FutureWarning: Passing (type, 1) or '1type' as a synonym of type is deprecated; in a future version of numpy, it will be understood as (type, (1,)) / '(1,)type'.\n",
      "  _np_qint16 = np.dtype([(\"qint16\", np.int16, 1)])\n",
      "C:\\Users\\hp\\Anaconda3\\lib\\site-packages\\tensorflow\\python\\framework\\dtypes.py:529: FutureWarning: Passing (type, 1) or '1type' as a synonym of type is deprecated; in a future version of numpy, it will be understood as (type, (1,)) / '(1,)type'.\n",
      "  _np_quint16 = np.dtype([(\"quint16\", np.uint16, 1)])\n",
      "C:\\Users\\hp\\Anaconda3\\lib\\site-packages\\tensorflow\\python\\framework\\dtypes.py:530: FutureWarning: Passing (type, 1) or '1type' as a synonym of type is deprecated; in a future version of numpy, it will be understood as (type, (1,)) / '(1,)type'.\n",
      "  _np_qint32 = np.dtype([(\"qint32\", np.int32, 1)])\n",
      "C:\\Users\\hp\\Anaconda3\\lib\\site-packages\\tensorflow\\python\\framework\\dtypes.py:535: FutureWarning: Passing (type, 1) or '1type' as a synonym of type is deprecated; in a future version of numpy, it will be understood as (type, (1,)) / '(1,)type'.\n",
      "  np_resource = np.dtype([(\"resource\", np.ubyte, 1)])\n"
     ]
    }
   ],
   "source": [
    "from keras.applications.resnet50 import ResNet50\n",
    "from keras.models import Model\n",
    "from keras.layers.convolutional import Convolution2D\n",
    "from keras.layers.pooling import MaxPooling2D\n",
    "from keras.layers.core import Flatten, Dense, Activation, Dropout\n",
    "from keras.preprocessing import image\n",
    "from keras.utils.np_utils import to_categorical\n",
    "from sklearn.model_selection import train_test_split\n",
    "from keras.optimizers import SGD\n",
    "from sklearn.metrics import f1_score"
   ]
  },
  {
   "cell_type": "code",
   "execution_count": 6,
   "metadata": {},
   "outputs": [],
   "source": [
    "from keras.models import Sequential\n",
    "from keras.layers.convolutional import Convolution2D\n",
    "from keras.layers.pooling import MaxPooling2D\n",
    "from keras.layers.core import Flatten, Dense, Activation, Dropout\n",
    "from keras.preprocessing import image\n",
    "from keras.utils.np_utils import to_categorical\n",
    "from sklearn.model_selection import train_test_split\n",
    "from keras.optimizers import SGD\n"
   ]
  },
  {
   "cell_type": "code",
   "execution_count": 7,
   "metadata": {},
   "outputs": [],
   "source": [
    "import keras as k"
   ]
  },
  {
   "cell_type": "code",
   "execution_count": 8,
   "metadata": {},
   "outputs": [],
   "source": [
    "import keras as k\n"
   ]
  },
  {
   "cell_type": "code",
   "execution_count": 9,
   "metadata": {},
   "outputs": [],
   "source": [
    "import keras as k\n"
   ]
  },
  {
   "cell_type": "code",
   "execution_count": 10,
   "metadata": {},
   "outputs": [],
   "source": [
    "from keras.models import Sequential\n",
    "from keras.layers.convolutional import Convolution2D\n",
    "from keras.layers.pooling import MaxPooling2D\n",
    "from keras.layers.core import Flatten, Dense, Activation, Dropout\n",
    "from keras.preprocessing import image\n",
    "from keras.utils.np_utils import to_categorical\n",
    "from sklearn.model_selection import train_test_split\n",
    "from keras.optimizers import SGD\n"
   ]
  },
  {
   "cell_type": "code",
   "execution_count": 15,
   "metadata": {},
   "outputs": [
    {
     "name": "stderr",
     "output_type": "stream",
     "text": [
      "C:\\Users\\hp\\Anaconda3\\lib\\site-packages\\ipykernel_launcher.py:24: UserWarning: Update your `Conv2D` call to the Keras 2 API: `Conv2D(32, (5, 5), input_shape=(96, 96, 3..., padding=\"same\")`\n"
     ]
    },
    {
     "name": "stdout",
     "output_type": "stream",
     "text": [
      "WARNING:tensorflow:From C:\\Users\\hp\\Anaconda3\\lib\\site-packages\\tensorflow\\python\\ops\\resource_variable_ops.py:435: colocate_with (from tensorflow.python.framework.ops) is deprecated and will be removed in a future version.\n",
      "Instructions for updating:\n",
      "Colocations handled automatically by placer.\n"
     ]
    },
    {
     "name": "stderr",
     "output_type": "stream",
     "text": [
      "C:\\Users\\hp\\Anaconda3\\lib\\site-packages\\ipykernel_launcher.py:29: UserWarning: Update your `Conv2D` call to the Keras 2 API: `Conv2D(64, (5, 5), padding=\"same\")`\n"
     ]
    }
   ],
   "source": [
    "input_size = (96, 96)\n",
    "\n",
    "with open('X_train.pkl', 'rb') as picklefile:\n",
    "    X_train = pickle.load( picklefile)\n",
    "\n",
    "\n",
    "with open('y_train.pkl', 'rb') as picklefile:\n",
    "    y_train = pickle.load( picklefile)\n",
    "\n",
    "\n",
    "with open('X_test.pkl', 'rb') as picklefile:\n",
    "    X_test = pickle.load(picklefile)\n",
    "\n",
    "\n",
    "with open('y_test.pkl', 'rb') as picklefile:\n",
    "    y_test = pickle.load(picklefile)\n",
    "\n",
    "\n",
    "model =Sequential()\n",
    "\n",
    "# conv filters of 5x5 each\n",
    "\n",
    "# Layer 1\n",
    "model.add(Convolution2D(32, (5, 5), input_shape=(input_size[0], input_size[1], 3), border_mode='same'))\n",
    "model.add(Activation(\"swish\"))\n",
    "model.add(MaxPooling2D(pool_size=(2, 2)))\n",
    "\n",
    "# Layer 2\n",
    "model.add(Convolution2D(64, (5, 5), border_mode='same'))\n",
    "model.add(Activation(\"swish\"))\n",
    "model.add(MaxPooling2D(pool_size=(2, 2)))\n",
    "\n",
    "model.add(Flatten())\n",
    "\n",
    "# Layer 3\n",
    "model.add(Dense(1024))\n",
    "model.add(Activation(\"swish\"))\n",
    "model.add(Dropout(0.5))\n",
    "\n",
    "# Layer 4\n",
    "\n",
    "model.add(Dense(512))\n",
    "model.add(Activation(\"swish\"))\n",
    "model.add(Dropout(0.5))\n",
    "\n",
    "# Layer 5\n",
    "\n",
    "model.add(Dense(256))\n",
    "model.add(Activation(\"swish\"))\n",
    "model.add(Dropout(0.5))\n",
    "# Layer 6\n",
    "model.add(Dense(128))\n",
    "model.add(Activation(\"swish\"))\n",
    "model.add(Dropout(0.5))\n",
    "\n",
    "#layer 7\n",
    "model.add(Dense(2))\n",
    "model.add(Activation(\"softmax\"))\n",
    "#sgd = SGD(lr=0.1, momentum=0.9, decay=0.0, nesterov=False)\n",
    "model.compile(optimizer='adam', loss='binary_crossentropy', metrics=['accuracy'])\n",
    "\n",
    "#model.compile(optimizer=sgd, loss='binary_crossentropy', metrics=['accuracy'])\n"
   ]
  },
  {
   "cell_type": "code",
   "execution_count": 16,
   "metadata": {},
   "outputs": [],
   "source": [
    "traindata = np.stack(X_train)\n",
    "testdata = np.stack(X_test)\n",
    "trainlabel = to_categorical(y_train)\n",
    "testlabel = to_categorical(y_test)\n"
   ]
  },
  {
   "cell_type": "code",
   "execution_count": 17,
   "metadata": {},
   "outputs": [
    {
     "name": "stdout",
     "output_type": "stream",
     "text": [
      "WARNING:tensorflow:From C:\\Users\\hp\\Anaconda3\\lib\\site-packages\\tensorflow\\python\\ops\\math_ops.py:3066: to_int32 (from tensorflow.python.ops.math_ops) is deprecated and will be removed in a future version.\n",
      "Instructions for updating:\n",
      "Use tf.cast instead.\n",
      "Epoch 1/1\n",
      "7952/7952 [==============================] - 321s 40ms/step - loss: 0.5547 - accuracy: 0.7418\n",
      "Model training complete...\n",
      "1480/1480 [==============================] - 20s 14ms/step\n",
      "accuracy: 73.04%\n"
     ]
    },
    {
     "ename": "NameError",
     "evalue": "name 'make_blobs' is not defined",
     "output_type": "error",
     "traceback": [
      "\u001b[1;31m---------------------------------------------------------------------------\u001b[0m",
      "\u001b[1;31mNameError\u001b[0m                                 Traceback (most recent call last)",
      "\u001b[1;32m<ipython-input-17-8967271009c0>\u001b[0m in \u001b[0;36m<module>\u001b[1;34m()\u001b[0m\n\u001b[0;32m      5\u001b[0m \u001b[1;33m\u001b[0m\u001b[0m\n\u001b[0;32m      6\u001b[0m \u001b[1;31m# new instances where we do not know the answer\u001b[0m\u001b[1;33m\u001b[0m\u001b[1;33m\u001b[0m\u001b[0m\n\u001b[1;32m----> 7\u001b[1;33m \u001b[0mXnew\u001b[0m\u001b[1;33m,\u001b[0m \u001b[0m_\u001b[0m \u001b[1;33m=\u001b[0m \u001b[0mmake_blobs\u001b[0m\u001b[1;33m(\u001b[0m\u001b[0mn_samples\u001b[0m\u001b[1;33m=\u001b[0m\u001b[1;36m3\u001b[0m\u001b[1;33m,\u001b[0m \u001b[0mcenters\u001b[0m\u001b[1;33m=\u001b[0m\u001b[1;36m2\u001b[0m\u001b[1;33m,\u001b[0m \u001b[0mn_features\u001b[0m\u001b[1;33m=\u001b[0m\u001b[1;36m2\u001b[0m\u001b[1;33m,\u001b[0m \u001b[0mrandom_state\u001b[0m\u001b[1;33m=\u001b[0m\u001b[1;36m1\u001b[0m\u001b[1;33m)\u001b[0m\u001b[1;33m\u001b[0m\u001b[0m\n\u001b[0m\u001b[0;32m      8\u001b[0m \u001b[0mXnew\u001b[0m \u001b[1;33m=\u001b[0m \u001b[0mscalar\u001b[0m\u001b[1;33m.\u001b[0m\u001b[0mtransform\u001b[0m\u001b[1;33m(\u001b[0m\u001b[0mXnew\u001b[0m\u001b[1;33m)\u001b[0m\u001b[1;33m\u001b[0m\u001b[0m\n\u001b[0;32m      9\u001b[0m \u001b[1;31m# make a prediction\u001b[0m\u001b[1;33m\u001b[0m\u001b[1;33m\u001b[0m\u001b[0m\n",
      "\u001b[1;31mNameError\u001b[0m: name 'make_blobs' is not defined"
     ]
    }
   ],
   "source": [
    "model.fit(traindata, trainlabel, batch_size=128, epochs=1, verbose=1)\n",
    "print(\"Model training complete...\")\n",
    "(loss, accuracy) = model.evaluate(testdata, testlabel, batch_size = 128, verbose = 1)\n",
    "print(\"accuracy: {:.2f}%\".format(accuracy * 100))\n",
    "\n",
    "# new instances where we do not know the answer\n",
    "Xnew, _ = make_blobs(n_samples=3, centers=2, n_features=2, random_state=1)\n",
    "Xnew = scalar.transform(Xnew)\n",
    "# make a prediction\n",
    "ynew = model.predict_classes(Xnew)\n",
    "f1=f1_score(y_test, ynew)\n",
    "\n",
    "\n",
    "##epoch : 1, train accuracy: .5450, test accuracy:  41.82%\n",
    "\n",
    "## epoch: 5, train accuracy: 0.7140, test accuracy: 53.72%\n",
    "\n",
    "## epoch: 10, train accuracy: 0.8820, test accuracy:  67.70%"
   ]
  },
  {
   "cell_type": "code",
   "execution_count": null,
   "metadata": {},
   "outputs": [],
   "source": [
    "print(model.summary())\n"
   ]
  },
  {
   "cell_type": "code",
   "execution_count": 11,
   "metadata": {},
   "outputs": [],
   "source": [
    "from keras.backend import sigmoid\n",
    "def swish(x,beta=1):\n",
    "    return(x*sigmoid(beta*x))"
   ]
  },
  {
   "cell_type": "code",
   "execution_count": 12,
   "metadata": {},
   "outputs": [],
   "source": [
    "from keras.utils.generic_utils import get_custom_objects\n",
    "from keras.layers import Activation \n",
    "get_custom_objects().update({'swish': Activation(swish)})"
   ]
  },
  {
   "cell_type": "code",
   "execution_count": null,
   "metadata": {},
   "outputs": [],
   "source": [
    "#from sklearn.metrics import confusion_matrix\n",
    "#cm = confusion_matrix(testdata, testlabel)\n",
    "model.fit(traindata, trainlabel, batch_size=128, epochs=5, verbose=1)\n",
    "print(\"Model training complete...\")\n",
    "(loss, accuracy) = model.evaluate(testdata, testlabel, batch_size = 128, verbose = 1)\n",
    "print(\"accuracy: {:.2f}%\".format(accuracy * 100))\n",
    "model.fit(traindata, trainlabel, batch_size=128, epochs=5, verbose=1)\n",
    "print(\"Model training complete...\")\n",
    "(loss, accuracy) = model.evaluate(testdata, testlabel, batch_size = 128, verbose = 1)\n",
    "print(\"accuracy: {:.2f}%\".format(accuracy * 100))\n",
    "model.fit(traindata, trainlabel, batch_size=128, epochs=5, verbose=1)\n",
    "print(\"Model training complete...\")\n",
    "(loss, accuracy) = model.evaluate(testdata, testlabel, batch_size = 128, verbose = 1)\n",
    "print(\"accuracy: {:.2f}%\".format(accuracy * 100))\n",
    "model.fit(traindata, trainlabel, batch_size=128, epochs=5, verbose=1)\n",
    "print(\"Model training complete...\")\n",
    "(loss, accuracy) = model.evaluate(testdata, testlabel, batch_size = 128, verbose = 1)\n",
    "print(\"accuracy: {:.2f}%\".format(accuracy * 100))\n",
    "model.fit(traindata, trainlabel, batch_size=128, epochs=5, verbose=1)\n",
    "print(\"Model training complete...\")\n",
    "(loss, accuracy) = model.evaluate(testdata, testlabel, batch_size = 128, verbose = 1)\n",
    "print(\"accuracy: {:.2f}%\".format(accuracy * 100))\n",
    "model.fit(traindata, trainlabel, batch_size=128, epochs=5, verbose=1)\n",
    "print(\"Model training complete...\")\n",
    "(loss, accuracy) = model.evaluate(testdata, testlabel, batch_size = 128, verbose = 1)\n",
    "print(\"accuracy: {:.2f}%\".format(accuracy * 100))\n",
    "model.fit(traindata, trainlabel, batch_size=128, epochs=5, verbose=1)\n",
    "print(\"Model training complete...\")\n",
    "(loss, accuracy) = model.evaluate(testdata, testlabel, batch_size = 128, verbose = 1)\n",
    "print(\"accuracy: {:.2f}%\".format(accuracy * 100))\n",
    "model.fit(traindata, trainlabel, batch_size=128, epochs=5, verbose=1)\n",
    "print(\"Model training complete...\")\n",
    "(loss, accuracy) = model.evaluate(testdata, testlabel, batch_size = 128, verbose = 1)\n",
    "print(\"accuracy: {:.2f}%\".format(accuracy * 100))\n",
    "model.fit(traindata, trainlabel, batch_size=128, epochs=5, verbose=1)\n",
    "print(\"Model training complete...\")\n",
    "(loss, accuracy) = model.evaluate(testdata, testlabel, batch_size = 128, verbose = 1)\n",
    "print(\"accuracy: {:.2f}%\".format(accuracy * 100))\n",
    "model.fit(traindata, trainlabel, batch_size=128, epochs=5, verbose=1)\n",
    "print(\"Model training complete...\")\n",
    "(loss, accuracy) = model.evaluate(testdata, testlabel, batch_size = 128, verbose = 1)\n",
    "print(\"accuracy: {:.2f}%\".format(accuracy * 100))\n"
   ]
  }
 ],
 "metadata": {
  "kernelspec": {
   "display_name": "Python 3",
   "language": "python",
   "name": "python3"
  },
  "language_info": {
   "codemirror_mode": {
    "name": "ipython",
    "version": 3
   },
   "file_extension": ".py",
   "mimetype": "text/x-python",
   "name": "python",
   "nbconvert_exporter": "python",
   "pygments_lexer": "ipython3",
   "version": "3.6.5"
  }
 },
 "nbformat": 4,
 "nbformat_minor": 2
}
