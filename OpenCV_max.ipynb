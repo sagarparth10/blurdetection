{
 "cells": [
  {
   "cell_type": "code",
   "execution_count": 1,
   "metadata": {},
   "outputs": [],
   "source": [
    "import cv2"
   ]
  },
  {
   "cell_type": "code",
   "execution_count": 2,
   "metadata": {},
   "outputs": [
    {
     "name": "stderr",
     "output_type": "stream",
     "text": [
      "C:\\Users\\hp\\Anaconda3\\lib\\site-packages\\h5py\\__init__.py:36: FutureWarning: Conversion of the second argument of issubdtype from `float` to `np.floating` is deprecated. In future, it will be treated as `np.float64 == np.dtype(float).type`.\n",
      "  from ._conv import register_converters as _register_converters\n",
      "Using TensorFlow backend.\n",
      "C:\\Users\\hp\\Anaconda3\\lib\\site-packages\\tensorflow\\python\\framework\\dtypes.py:526: FutureWarning: Passing (type, 1) or '1type' as a synonym of type is deprecated; in a future version of numpy, it will be understood as (type, (1,)) / '(1,)type'.\n",
      "  _np_qint8 = np.dtype([(\"qint8\", np.int8, 1)])\n",
      "C:\\Users\\hp\\Anaconda3\\lib\\site-packages\\tensorflow\\python\\framework\\dtypes.py:527: FutureWarning: Passing (type, 1) or '1type' as a synonym of type is deprecated; in a future version of numpy, it will be understood as (type, (1,)) / '(1,)type'.\n",
      "  _np_quint8 = np.dtype([(\"quint8\", np.uint8, 1)])\n",
      "C:\\Users\\hp\\Anaconda3\\lib\\site-packages\\tensorflow\\python\\framework\\dtypes.py:528: FutureWarning: Passing (type, 1) or '1type' as a synonym of type is deprecated; in a future version of numpy, it will be understood as (type, (1,)) / '(1,)type'.\n",
      "  _np_qint16 = np.dtype([(\"qint16\", np.int16, 1)])\n",
      "C:\\Users\\hp\\Anaconda3\\lib\\site-packages\\tensorflow\\python\\framework\\dtypes.py:529: FutureWarning: Passing (type, 1) or '1type' as a synonym of type is deprecated; in a future version of numpy, it will be understood as (type, (1,)) / '(1,)type'.\n",
      "  _np_quint16 = np.dtype([(\"quint16\", np.uint16, 1)])\n",
      "C:\\Users\\hp\\Anaconda3\\lib\\site-packages\\tensorflow\\python\\framework\\dtypes.py:530: FutureWarning: Passing (type, 1) or '1type' as a synonym of type is deprecated; in a future version of numpy, it will be understood as (type, (1,)) / '(1,)type'.\n",
      "  _np_qint32 = np.dtype([(\"qint32\", np.int32, 1)])\n",
      "C:\\Users\\hp\\Anaconda3\\lib\\site-packages\\tensorflow\\python\\framework\\dtypes.py:535: FutureWarning: Passing (type, 1) or '1type' as a synonym of type is deprecated; in a future version of numpy, it will be understood as (type, (1,)) / '(1,)type'.\n",
      "  np_resource = np.dtype([(\"resource\", np.ubyte, 1)])\n"
     ]
    }
   ],
   "source": [
    "import numpy as np\n",
    "import pandas as pd\n",
    "import os\n",
    "import pickle\n",
    "\n",
    "from keras.preprocessing import image\n",
    "from sklearn.metrics import accuracy_score"
   ]
  },
  {
   "cell_type": "code",
   "execution_count": 3,
   "metadata": {},
   "outputs": [],
   "source": [
    "def variance_of_laplacian(image):\n",
    "\treturn cv2.Laplacian(image, cv2.CV_64F).var()\n",
    "\n",
    "\n",
    "\n",
    "\n",
    "\n",
    "X_test = []\n",
    "y_test = []\n",
    "y_pred = []\n",
    "val_blur = []\n",
    "val_nblur = []\n",
    "threshold = 215\n",
    "input_size = (192, 192)\n"
   ]
  },
  {
   "cell_type": "code",
   "execution_count": 4,
   "metadata": {},
   "outputs": [],
   "source": [
    "dgbset = pd.read_excel('C:/Users/hp/Desktop/CERTH_ImageBlurDataset/EvaluationSet/DigitalBlurSet.xlsx')\n",
    "nbset = pd.read_excel('C:/Users/hp/Desktop/CERTH_ImageBlurDataset/EvaluationSet/NaturalBlurSet.xlsx')\n"
   ]
  },
  {
   "cell_type": "code",
   "execution_count": 5,
   "metadata": {},
   "outputs": [],
   "source": [
    "dgbset['MyDigital Blur'] = dgbset['MyDigital Blur'].apply(lambda x : x.strip())\n",
    "dgbset = dgbset.rename(index=str, columns={\"Unnamed: 1\": \"Blur Label\"})\n",
    "nbset['Image Name'] = nbset['Image Name'].apply(lambda x : x.strip())"
   ]
  },
  {
   "cell_type": "code",
   "execution_count": 6,
   "metadata": {},
   "outputs": [
    {
     "name": "stdout",
     "output_type": "stream",
     "text": [
      "Digitally Blurred Evaluated...\n"
     ]
    }
   ],
   "source": [
    "folderpath = 'C:/Users/hp/Desktop/CERTH_ImageBlurDataset/EvaluationSet/DigitalBlurSet/'\n",
    "\n",
    "# load image arrays\n",
    "for filename in os.listdir(folderpath):\n",
    "    if filename != '.DS_Store':\n",
    "        imagepath = folderpath + filename\n",
    "        img = image.load_img(imagepath, target_size=input_size)\n",
    "        X_test.append(np.asarray(img))\n",
    "        blur = dgbset[dgbset['MyDigital Blur'] == filename].iloc[0]['Blur Label']\n",
    "        gray = cv2.cvtColor(np.asarray(img), cv2.COLOR_BGR2GRAY)\n",
    "        maxval = np.max(cv2.convertScaleAbs(cv2.Laplacian(gray,3)))\n",
    "        if maxval < threshold:\n",
    "            y_pred.append(1)\n",
    "        else:\n",
    "            y_pred.append(0)\n",
    "\n",
    "        if blur == 1:\n",
    "            y_test.append(1)\n",
    "            val_blur.append(maxval)\n",
    "        else:\n",
    "            y_test.append(0)\n",
    "            val_nblur.append(maxval)\n",
    "    else:\n",
    "        print(filename, 'not a pic')\n",
    "\n",
    "print(\"Digitally Blurred Evaluated...\")\n"
   ]
  },
  {
   "cell_type": "code",
   "execution_count": 7,
   "metadata": {},
   "outputs": [
    {
     "name": "stdout",
     "output_type": "stream",
     "text": [
      "Naturally Blurred Evaluated...\n"
     ]
    }
   ],
   "source": [
    "folderpath = 'C:/Users/hp/Desktop/CERTH_ImageBlurDataset/EvaluationSet/NaturalBlurSet/'\n",
    "\n",
    "# load image arrays\n",
    "for filename in os.listdir(folderpath):\n",
    "    if filename != '.DS_Store':\n",
    "        imagepath = folderpath + filename\n",
    "        img = image.load_img(imagepath, target_size=input_size)\n",
    "        X_test.append(np.asarray(img))\n",
    "        blur = nbset[nbset['Image Name'] == filename.split('.')[0]].iloc[0]['Blur Label']\n",
    "        gray = cv2.cvtColor(np.asarray(img), cv2.COLOR_BGR2GRAY)\n",
    "        maxval = np.max(cv2.convertScaleAbs(cv2.Laplacian(gray,3)))\n",
    "        if maxval < threshold:\n",
    "            y_pred.append(1)\n",
    "        else:\n",
    "            y_pred.append(0)\n",
    "        if blur == 1:\n",
    "            y_test.append(1)\n",
    "            val_blur.append(maxval)\n",
    "        else:\n",
    "            y_test.append(0)\n",
    "            val_nblur.append(maxval)\n",
    "    else:\n",
    "        print(filename, 'not a pic')\n",
    "\n",
    "print(\"Naturally Blurred Evaluated...\")"
   ]
  },
  {
   "cell_type": "code",
   "execution_count": 8,
   "metadata": {},
   "outputs": [
    {
     "name": "stdout",
     "output_type": "stream",
     "text": [
      "accuracy: 63.58%\n"
     ]
    }
   ],
   "source": [
    "accuracy = accuracy_score(y_test, y_pred)\n",
    "print(\"accuracy: {:.2f}%\".format(accuracy * 100))\n"
   ]
  },
  {
   "cell_type": "code",
   "execution_count": 9,
   "metadata": {},
   "outputs": [
    {
     "name": "stdout",
     "output_type": "stream",
     "text": [
      "255.0\n",
      "255.0\n",
      "DescribeResult(nobs=861, minmax=(17, 255), mean=201.98606271777004, variance=5369.678875293736, skewness=-1.0729189514344002, kurtosis=-0.3269821207133945)\n",
      "DescribeResult(nobs=619, minmax=(188, 255), mean=254.8675282714055, variance=7.610254560283579, skewness=-23.316063879349564, kurtosis=557.8368200149888)\n"
     ]
    }
   ],
   "source": [
    "from scipy import stats\n",
    "print(np.percentile(val_blur,60))\n",
    "print(np.percentile(val_nblur,15))\n",
    "\n",
    "print(stats.describe(val_blur))\n",
    "print(stats.describe(val_nblur))\n"
   ]
  },
  {
   "cell_type": "code",
   "execution_count": null,
   "metadata": {},
   "outputs": [],
   "source": []
  },
  {
   "cell_type": "code",
   "execution_count": null,
   "metadata": {},
   "outputs": [],
   "source": []
  },
  {
   "cell_type": "code",
   "execution_count": null,
   "metadata": {},
   "outputs": [],
   "source": []
  },
  {
   "cell_type": "code",
   "execution_count": null,
   "metadata": {},
   "outputs": [],
   "source": []
  }
 ],
 "metadata": {
  "kernelspec": {
   "display_name": "Python 3",
   "language": "python",
   "name": "python3"
  },
  "language_info": {
   "codemirror_mode": {
    "name": "ipython",
    "version": 3
   },
   "file_extension": ".py",
   "mimetype": "text/x-python",
   "name": "python",
   "nbconvert_exporter": "python",
   "pygments_lexer": "ipython3",
   "version": "3.6.5"
  }
 },
 "nbformat": 4,
 "nbformat_minor": 2
}
