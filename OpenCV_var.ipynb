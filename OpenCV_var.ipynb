{
 "cells": [
  {
   "cell_type": "code",
   "execution_count": 1,
   "metadata": {},
   "outputs": [],
   "source": [
    "import cv2\n"
   ]
  },
  {
   "cell_type": "code",
   "execution_count": 2,
   "metadata": {},
   "outputs": [
    {
     "name": "stderr",
     "output_type": "stream",
     "text": [
      "C:\\Users\\hp\\Anaconda3\\lib\\site-packages\\h5py\\__init__.py:36: FutureWarning: Conversion of the second argument of issubdtype from `float` to `np.floating` is deprecated. In future, it will be treated as `np.float64 == np.dtype(float).type`.\n",
      "  from ._conv import register_converters as _register_converters\n",
      "Using TensorFlow backend.\n",
      "C:\\Users\\hp\\Anaconda3\\lib\\site-packages\\tensorflow\\python\\framework\\dtypes.py:526: FutureWarning: Passing (type, 1) or '1type' as a synonym of type is deprecated; in a future version of numpy, it will be understood as (type, (1,)) / '(1,)type'.\n",
      "  _np_qint8 = np.dtype([(\"qint8\", np.int8, 1)])\n",
      "C:\\Users\\hp\\Anaconda3\\lib\\site-packages\\tensorflow\\python\\framework\\dtypes.py:527: FutureWarning: Passing (type, 1) or '1type' as a synonym of type is deprecated; in a future version of numpy, it will be understood as (type, (1,)) / '(1,)type'.\n",
      "  _np_quint8 = np.dtype([(\"quint8\", np.uint8, 1)])\n",
      "C:\\Users\\hp\\Anaconda3\\lib\\site-packages\\tensorflow\\python\\framework\\dtypes.py:528: FutureWarning: Passing (type, 1) or '1type' as a synonym of type is deprecated; in a future version of numpy, it will be understood as (type, (1,)) / '(1,)type'.\n",
      "  _np_qint16 = np.dtype([(\"qint16\", np.int16, 1)])\n",
      "C:\\Users\\hp\\Anaconda3\\lib\\site-packages\\tensorflow\\python\\framework\\dtypes.py:529: FutureWarning: Passing (type, 1) or '1type' as a synonym of type is deprecated; in a future version of numpy, it will be understood as (type, (1,)) / '(1,)type'.\n",
      "  _np_quint16 = np.dtype([(\"quint16\", np.uint16, 1)])\n",
      "C:\\Users\\hp\\Anaconda3\\lib\\site-packages\\tensorflow\\python\\framework\\dtypes.py:530: FutureWarning: Passing (type, 1) or '1type' as a synonym of type is deprecated; in a future version of numpy, it will be understood as (type, (1,)) / '(1,)type'.\n",
      "  _np_qint32 = np.dtype([(\"qint32\", np.int32, 1)])\n",
      "C:\\Users\\hp\\Anaconda3\\lib\\site-packages\\tensorflow\\python\\framework\\dtypes.py:535: FutureWarning: Passing (type, 1) or '1type' as a synonym of type is deprecated; in a future version of numpy, it will be understood as (type, (1,)) / '(1,)type'.\n",
      "  np_resource = np.dtype([(\"resource\", np.ubyte, 1)])\n"
     ]
    }
   ],
   "source": [
    "import numpy as np\n",
    "import pandas as pd\n",
    "import os\n",
    "import pickle\n",
    "\n",
    "\n",
    "#from keras.models import Sequential\n",
    "#from keras.layers.convolutional import Convolution2D\n",
    "#from keras.layers.pooling import MaxPooling2D\n",
    "#from keras.layers.core import Flatten, Dense, Activation, Dropout\n",
    "from keras.preprocessing import image\n",
    "#from keras.callbacks import EarlyStopping, ModelCheckpoint\n",
    "#from keras.utils.np_utils import to_categorical\n",
    "from sklearn.model_selection import train_test_split\n",
    "from matplotlib import pyplot as plt\n",
    "from sklearn.metrics import accuracy_score\n",
    "from sklearn.metrics import f1_score\n",
    "import sklearn\n",
    "import tensorflow as tf\n",
    "from sklearn.metrics import average_precision_score\n",
    "from sklearn.metrics import precision_recall_curve\n",
    "from sklearn.metrics import plot_precision_recall_curve\n",
    "import matplotlib.pyplot as plt\n",
    "\n",
    "input_size = (512, 512)\n"
   ]
  },
  {
   "cell_type": "code",
   "execution_count": 3,
   "metadata": {},
   "outputs": [],
   "source": [
    "X = []\n",
    "y = []\n",
    "y_pred = []\n",
    "\n",
    "threshold = 450.0"
   ]
  },
  {
   "cell_type": "code",
   "execution_count": 4,
   "metadata": {},
   "outputs": [],
   "source": [
    "t = []\n",
    "t1 = []\n"
   ]
  },
  {
   "cell_type": "code",
   "execution_count": 5,
   "metadata": {},
   "outputs": [],
   "source": [
    "def Rotate(image, rotate_rg=45, u=0.5, v=1.0):\n",
    "\n",
    "    if v < u:\n",
    "        image = prep.random_rotation(image, rg=rotate_rg, \n",
    "                                     row_axis=0, col_axis=1, channel_axis=2)\n",
    "\n",
    "    return image "
   ]
  },
  {
   "cell_type": "code",
   "execution_count": 6,
   "metadata": {},
   "outputs": [],
   "source": [
    "def variance_of_laplacian(image):\n",
    "    # compute the Laplacian of the image and then return the focus\n",
    "    # measure, which is simply the variance of the Laplacian\n",
    "    return cv2.Laplacian(image, cv2.CV_64F).var()\n",
    "\n"
   ]
  },
  {
   "cell_type": "code",
   "execution_count": 7,
   "metadata": {},
   "outputs": [],
   "source": [
    "folderpath = 'C:/Users/hp/Desktop/CERTH_ImageBlurDataset/TrainingSet/Undistorted/'\n",
    "\n",
    "# load image arrays\n",
    "for filename in os.listdir(folderpath):\n",
    "    if filename != '.DS_Store':\n",
    "        imagepath = folderpath + filename\n",
    "        img = image.load_img(imagepath, target_size=(192,192))\n",
    "        #X.append(np.asarray(img))\n",
    "        #image = cv2.imread(imagepath)\n",
    "        lab=cv2.cvtColor(np.asarray(img), cv2.COLOR_BGR2LAB)\n",
    "        lab_planes=cv2.split(lab)\n",
    "        cv2.waitKey(0)\n",
    "        cv2.destroyAllWindows()\n",
    "        clahe= cv2.createCLAHE(clipLimit=2.0,tileGridSize=(16,16))\n",
    "        lab_planes[0]=clahe.apply(lab_planes[0])\n",
    "        lab=cv2.merge(lab_planes)\n",
    "        lab=Rotate(lab)\n",
    "        lab=cv2.GaussianBlur(lab,(5,5),cv2.BORDER_DEFAULT)\n",
    "        gray = cv2.cvtColor(np.asarray(img), cv2.COLOR_BGR2GRAY)\n",
    "        fm = variance_of_laplacian(gray)\n",
    "        t1.append(fm)\n",
    "\n",
    "        if fm < threshold:\n",
    "            y_pred.append(1)\n",
    "        else:\n",
    "            y_pred.append(0)\n",
    "        y.append(0)\n",
    "    else:\n",
    "        print(filename, 'not a pic')\n",
    "\n",
    "\n"
   ]
  },
  {
   "cell_type": "code",
   "execution_count": 8,
   "metadata": {},
   "outputs": [],
   "source": [
    "folderpath = 'C:/Users/hp/Desktop/CERTH_ImageBlurDataset/TrainingSet/Artificially-Blurred/'\n",
    "\n",
    "# load image arrays\n",
    "for filename in os.listdir(folderpath):\n",
    "    if filename != '.DS_Store':\n",
    "        imagepath = folderpath + filename\n",
    "        img = image.load_img(imagepath, target_size=(192,192))\n",
    "        #X.append(np.asarray(img))\n",
    "        lab=cv2.cvtColor(np.asarray(img), cv2.COLOR_BGR2LAB)\n",
    "        lab_planes=cv2.split(lab)\n",
    "        cv2.waitKey(0)\n",
    "        cv2.destroyAllWindows()\n",
    "        clahe= cv2.createCLAHE(clipLimit=2.0,tileGridSize=(16,16))\n",
    "        lab_planes[0]=clahe.apply(lab_planes[0])\n",
    "        lab=cv2.merge(lab_planes)\n",
    "        lab=Rotate(lab)\n",
    "        lab=cv2.GaussianBlur(lab,(5,5),cv2.BORDER_DEFAULT)\n",
    "        gray = cv2.cvtColor(np.asarray(img), cv2.COLOR_BGR2GRAY)\n",
    "        fm = variance_of_laplacian(gray)\n",
    "        t.append(fm)\n",
    "        if fm < threshold:\n",
    "            y_pred.append(1)\n",
    "        else:\n",
    "            y_pred.append(0)\n",
    "        t.append(fm)\n",
    "        y.append(1)\n",
    "    else:\n",
    "        print(filename, 'not a pic')\n"
   ]
  },
  {
   "cell_type": "code",
   "execution_count": 9,
   "metadata": {},
   "outputs": [],
   "source": [
    "folderpath = 'C:/Users/hp/Desktop/CERTH_ImageBlurDataset/TrainingSet/Naturally-Blurred/'\n",
    "\n",
    "# load image arrays\n",
    "for filename in os.listdir(folderpath):\n",
    "    if filename != '.DS_Store':\n",
    "        imagepath = folderpath + filename\n",
    "        img = image.load_img(imagepath, target_size=(192,192))\n",
    "        #X.append(np.asarray(img))\n",
    "        lab=cv2.cvtColor(np.asarray(img), cv2.COLOR_BGR2LAB)\n",
    "        lab_planes=cv2.split(lab)\n",
    "        cv2.waitKey(0)\n",
    "        cv2.destroyAllWindows()\n",
    "        clahe= cv2.createCLAHE(clipLimit=2.0,tileGridSize=(16,16))\n",
    "        lab_planes[0]=clahe.apply(lab_planes[0])\n",
    "        lab=cv2.merge(lab_planes)\n",
    "        lab=Rotate(lab)\n",
    "        lab=cv2.GaussianBlur(lab,(5,5),cv2.BORDER_DEFAULT)\n",
    "        gray = cv2.cvtColor(np.asarray(img), cv2.COLOR_BGR2GRAY)\n",
    "        fm = variance_of_laplacian(gray)\n",
    "        t.append(fm)\n",
    "        if fm < threshold:\n",
    "            y_pred.append(1)\n",
    "        else:\n",
    "            y_pred.append(0)\n",
    "        t.append(fm)\n",
    "        y.append(1)\n",
    "    else:\n",
    "        print(filename, 'not a pic')\n"
   ]
  },
  {
   "cell_type": "code",
   "execution_count": 10,
   "metadata": {},
   "outputs": [],
   "source": [
    "X_test = []\n",
    "y_test = []\n",
    "y_pred = []\n",
    "t_blur = []\n",
    "t_nblur = []\n",
    "threshold = 420"
   ]
  },
  {
   "cell_type": "code",
   "execution_count": 11,
   "metadata": {},
   "outputs": [],
   "source": [
    "dgbset = pd.read_excel('C:/Users/hp/Desktop/CERTH_ImageBlurDataset/EvaluationSet/DigitalBlurSet.xlsx')\n",
    "nbset = pd.read_excel('C:/Users/hp/Desktop/CERTH_ImageBlurDataset/EvaluationSet/NaturalBlurSet.xlsx')\n"
   ]
  },
  {
   "cell_type": "code",
   "execution_count": 12,
   "metadata": {},
   "outputs": [],
   "source": [
    "dgbset['MyDigital Blur'] = dgbset['MyDigital Blur'].apply(lambda x : x.strip())\n",
    "dgbset = dgbset.rename(index=str, columns={\"Unnamed: 1\": \"Blur Label\"})\n",
    "nbset['Image Name'] = nbset['Image Name'].apply(lambda x : x.strip())"
   ]
  },
  {
   "cell_type": "code",
   "execution_count": 13,
   "metadata": {},
   "outputs": [
    {
     "name": "stdout",
     "output_type": "stream",
     "text": [
      "Artificially Blurred Evaluated...\n"
     ]
    }
   ],
   "source": [
    "folderpath = 'C:/Users/hp/Desktop/CERTH_ImageBlurDataset/EvaluationSet/DigitalBlurSet/'\n",
    "\n",
    "# load image arrays\n",
    "for filename in os.listdir(folderpath):\n",
    "    if filename != '.DS_Store':\n",
    "        imagepath = folderpath + filename\n",
    "        img = image.load_img(imagepath, target_size= input_size)\n",
    "        #X_test.append(np.asarray(img))np.asarray(img)\n",
    "        lab=cv2.cvtColor(np.asarray(img), cv2.COLOR_BGR2LAB)\n",
    "        lab_planes=cv2.split(lab)\n",
    "        cv2.waitKey(0)\n",
    "        cv2.destroyAllWindows()\n",
    "        clahe= cv2.createCLAHE(clipLimit=2.0,tileGridSize=(16,16))\n",
    "        lab_planes[0]=clahe.apply(lab_planes[0])\n",
    "        lab=cv2.merge(lab_planes)\n",
    "        #lab=Rotate(lab)\n",
    "        blur = dgbset[dgbset['MyDigital Blur'] == filename].iloc[0]['Blur Label']\n",
    "        gray = cv2.cvtColor(np.asarray(img), cv2.COLOR_BGR2GRAY)\n",
    "        fm = variance_of_laplacian(gray)\n",
    "        if fm < threshold:\n",
    "            y_pred.append(1)\n",
    "        else:\n",
    "            y_pred.append(0)\n",
    "\n",
    "        if blur == 1:\n",
    "            y_test.append(1)\n",
    "            t_blur.append(fm)\n",
    "        else:\n",
    "            y_test.append(0)\n",
    "            t_nblur.append(fm)\n",
    "    else:\n",
    "        print(filename, 'not a pic')\n",
    "\n",
    "print(\"Artificially Blurred Evaluated...\")"
   ]
  },
  {
   "cell_type": "code",
   "execution_count": 14,
   "metadata": {},
   "outputs": [
    {
     "name": "stdout",
     "output_type": "stream",
     "text": [
      "Naturally Blurred Evaluated...\n"
     ]
    }
   ],
   "source": [
    "folderpath = 'C:/Users/hp/Desktop/CERTH_ImageBlurDataset/EvaluationSet/NaturalBlurSet/'\n",
    "\n",
    "# load image arrays\n",
    "for filename in os.listdir(folderpath):\n",
    "    if filename != '.DS_Store':\n",
    "        imagepath = folderpath + filename\n",
    "        img = image.load_img(imagepath, target_size=input_size)\n",
    "        #X_test.append(np.asarray(img))\n",
    "        lab=cv2.cvtColor(np.asarray(img), cv2.COLOR_BGR2LAB)\n",
    "        lab_planes=cv2.split(lab)\n",
    "        cv2.waitKey(0)\n",
    "        cv2.destroyAllWindows()\n",
    "        clahe= cv2.createCLAHE(clipLimit=2.0,tileGridSize=(16,16))\n",
    "        lab_planes[0]=clahe.apply(lab_planes[0])\n",
    "        lab=cv2.merge(lab_planes)\n",
    "        blur = nbset[nbset['Image Name'] == filename.split('.')[0]].iloc[0]['Blur Label']\n",
    "        gray = cv2.cvtColor(np.asarray(img), cv2.COLOR_BGR2GRAY)\n",
    "        fm = variance_of_laplacian(gray)\n",
    "        if fm < threshold:\n",
    "            y_pred.append(1)\n",
    "        else:\n",
    "            y_pred.append(0)\n",
    "        if blur == 1:\n",
    "            y_test.append(1)\n",
    "            t_blur.append(fm)\n",
    "        else:\n",
    "            y_test.append(0)\n",
    "            t_nblur.append(fm)\n",
    "    else:\n",
    "        print(filename, 'not a pic')\n",
    "\n",
    "print(\"Naturally Blurred Evaluated...\")"
   ]
  },
  {
   "cell_type": "code",
   "execution_count": 17,
   "metadata": {},
   "outputs": [
    {
     "name": "stdout",
     "output_type": "stream",
     "text": [
      "accuracy: 87.30%\n",
      "f1 score: 88.40%\n",
      "Average precision-recall score: 88.25%\n"
     ]
    }
   ],
   "source": [
    "with open('y_test.pkl', 'rb') as picklefile:\n",
    "    y_test = pickle.load(picklefile)\n",
    "\n",
    "\n",
    "accuracy = accuracy_score(y_test, y_pred)\n",
    "print(\"accuracy: {:.2f}%\".format(accuracy * 100))\n",
    "\n",
    "f1=f1_score(y_test, y_pred)\n",
    "print(\"f1 score: {:.2f}%\".format(f1 * 100))\n",
    "\n",
    "\n",
    "average_precision = average_precision_score(y_test, y_pred)\n",
    "\n",
    "print('Average precision-recall score: {0:0.2f}%'.format(\n",
    "      average_precision * 100))\n",
    "\n"
   ]
  },
  {
   "cell_type": "code",
   "execution_count": null,
   "metadata": {},
   "outputs": [],
   "source": []
  },
  {
   "cell_type": "code",
   "execution_count": null,
   "metadata": {},
   "outputs": [],
   "source": []
  },
  {
   "cell_type": "code",
   "execution_count": null,
   "metadata": {},
   "outputs": [],
   "source": []
  },
  {
   "cell_type": "code",
   "execution_count": null,
   "metadata": {},
   "outputs": [],
   "source": []
  }
 ],
 "metadata": {
  "kernelspec": {
   "display_name": "Python 3",
   "language": "python",
   "name": "python3"
  },
  "language_info": {
   "codemirror_mode": {
    "name": "ipython",
    "version": 3
   },
   "file_extension": ".py",
   "mimetype": "text/x-python",
   "name": "python",
   "nbconvert_exporter": "python",
   "pygments_lexer": "ipython3",
   "version": "3.6.5"
  }
 },
 "nbformat": 4,
 "nbformat_minor": 2
}
