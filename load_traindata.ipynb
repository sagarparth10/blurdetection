{
 "cells": [
  {
   "cell_type": "code",
   "execution_count": 1,
   "metadata": {},
   "outputs": [
    {
     "name": "stderr",
     "output_type": "stream",
     "text": [
      "C:\\Users\\hp\\Anaconda3\\lib\\site-packages\\h5py\\__init__.py:36: FutureWarning: Conversion of the second argument of issubdtype from `float` to `np.floating` is deprecated. In future, it will be treated as `np.float64 == np.dtype(float).type`.\n",
      "  from ._conv import register_converters as _register_converters\n",
      "Using TensorFlow backend.\n",
      "C:\\Users\\hp\\Anaconda3\\lib\\site-packages\\tensorflow\\python\\framework\\dtypes.py:526: FutureWarning: Passing (type, 1) or '1type' as a synonym of type is deprecated; in a future version of numpy, it will be understood as (type, (1,)) / '(1,)type'.\n",
      "  _np_qint8 = np.dtype([(\"qint8\", np.int8, 1)])\n",
      "C:\\Users\\hp\\Anaconda3\\lib\\site-packages\\tensorflow\\python\\framework\\dtypes.py:527: FutureWarning: Passing (type, 1) or '1type' as a synonym of type is deprecated; in a future version of numpy, it will be understood as (type, (1,)) / '(1,)type'.\n",
      "  _np_quint8 = np.dtype([(\"quint8\", np.uint8, 1)])\n",
      "C:\\Users\\hp\\Anaconda3\\lib\\site-packages\\tensorflow\\python\\framework\\dtypes.py:528: FutureWarning: Passing (type, 1) or '1type' as a synonym of type is deprecated; in a future version of numpy, it will be understood as (type, (1,)) / '(1,)type'.\n",
      "  _np_qint16 = np.dtype([(\"qint16\", np.int16, 1)])\n",
      "C:\\Users\\hp\\Anaconda3\\lib\\site-packages\\tensorflow\\python\\framework\\dtypes.py:529: FutureWarning: Passing (type, 1) or '1type' as a synonym of type is deprecated; in a future version of numpy, it will be understood as (type, (1,)) / '(1,)type'.\n",
      "  _np_quint16 = np.dtype([(\"quint16\", np.uint16, 1)])\n",
      "C:\\Users\\hp\\Anaconda3\\lib\\site-packages\\tensorflow\\python\\framework\\dtypes.py:530: FutureWarning: Passing (type, 1) or '1type' as a synonym of type is deprecated; in a future version of numpy, it will be understood as (type, (1,)) / '(1,)type'.\n",
      "  _np_qint32 = np.dtype([(\"qint32\", np.int32, 1)])\n",
      "C:\\Users\\hp\\Anaconda3\\lib\\site-packages\\tensorflow\\python\\framework\\dtypes.py:535: FutureWarning: Passing (type, 1) or '1type' as a synonym of type is deprecated; in a future version of numpy, it will be understood as (type, (1,)) / '(1,)type'.\n",
      "  np_resource = np.dtype([(\"resource\", np.ubyte, 1)])\n"
     ]
    }
   ],
   "source": [
    "import numpy as np\n",
    "import pandas as pd\n",
    "import os\n",
    "import pickle\n",
    "import cv2\n",
    "\n",
    "\n",
    "from keras.preprocessing import image\n"
   ]
  },
  {
   "cell_type": "code",
   "execution_count": 2,
   "metadata": {},
   "outputs": [],
   "source": [
    "X_train = []\n",
    "y_train = []\n",
    "\n",
    "input_size = (96, 96)\n"
   ]
  },
  {
   "cell_type": "code",
   "execution_count": 3,
   "metadata": {},
   "outputs": [
    {
     "name": "stdout",
     "output_type": "stream",
     "text": [
      "Trainset: Undistorted loaded...\n"
     ]
    }
   ],
   "source": [
    "folderpath = 'C:/Users/hp/Desktop/CERTH_ImageBlurDataset/TrainingSet/Undistorted/'\n",
    "\n",
    "for filename in os.listdir(folderpath):\n",
    "    if filename != '.DS_Store':\n",
    "        imagepath = folderpath + filename\n",
    "        img = image.load_img(imagepath, target_size = input_size)\n",
    "        X_train.append((1/255)*np.asarray(img))\n",
    "        y_train.append(0)\n",
    "    else:\n",
    "        print(filename, 'not a pic')\n",
    "print(\"Trainset: Undistorted loaded...\")"
   ]
  },
  {
   "cell_type": "code",
   "execution_count": 4,
   "metadata": {},
   "outputs": [
    {
     "name": "stdout",
     "output_type": "stream",
     "text": [
      "Trainset: Artificially Blurred loaded...\n"
     ]
    }
   ],
   "source": [
    "folderpath = 'C:/Users/hp/Desktop/CERTH_ImageBlurDataset/TrainingSet/Artificially-Blurred/'\n",
    "\n",
    "# load image arrays\n",
    "for filename in os.listdir(folderpath):\n",
    "    if filename != '.DS_Store':\n",
    "        imagepath = folderpath + filename\n",
    "        img = image.load_img(imagepath, target_size=input_size)\n",
    "        X_train.append((1/255)*np.asarray(img))\n",
    "        y_train.append(1)\n",
    "    else:\n",
    "        print(filename, 'not a pic')\n",
    "print(\"Trainset: Artificially Blurred loaded...\")"
   ]
  },
  {
   "cell_type": "code",
   "execution_count": 5,
   "metadata": {},
   "outputs": [
    {
     "name": "stdout",
     "output_type": "stream",
     "text": [
      "Trainset: Naturally Blurred loaded...\n"
     ]
    }
   ],
   "source": [
    "folderpath = 'C:/Users/hp/Desktop/CERTH_ImageBlurDataset/TrainingSet/Naturally-Blurred/'\n",
    "\n",
    "# load image arrays\n",
    "for filename in os.listdir(folderpath):\n",
    "    if filename != '.DS_Store':\n",
    "        imagepath = folderpath + filename\n",
    "        img = image.load_img(imagepath, target_size=input_size)\n",
    "        X_train.append((1/255)*np.asarray(img))\n",
    "        y_train.append(1)\n",
    "    else:\n",
    "        print(filename, 'not a pic')\n",
    "print(\"Trainset: Naturally Blurred loaded...\")\n",
    "\n",
    "\n",
    "\n",
    "# Pickle the train files\n",
    "\n",
    "with open('X_train.pkl', 'wb') as picklefile:\n",
    "    pickle.dump(X_train, picklefile)\n",
    "\n",
    "\n",
    "with open('y_train.pkl', 'wb') as picklefile:\n",
    "    pickle.dump(y_train, picklefile)\n"
   ]
  },
  {
   "cell_type": "code",
   "execution_count": null,
   "metadata": {},
   "outputs": [],
   "source": []
  },
  {
   "cell_type": "code",
   "execution_count": null,
   "metadata": {},
   "outputs": [],
   "source": []
  },
  {
   "cell_type": "code",
   "execution_count": null,
   "metadata": {},
   "outputs": [],
   "source": []
  },
  {
   "cell_type": "code",
   "execution_count": null,
   "metadata": {},
   "outputs": [],
   "source": []
  }
 ],
 "metadata": {
  "kernelspec": {
   "display_name": "Python 3",
   "language": "python",
   "name": "python3"
  },
  "language_info": {
   "codemirror_mode": {
    "name": "ipython",
    "version": 3
   },
   "file_extension": ".py",
   "mimetype": "text/x-python",
   "name": "python",
   "nbconvert_exporter": "python",
   "pygments_lexer": "ipython3",
   "version": "3.6.5"
  }
 },
 "nbformat": 4,
 "nbformat_minor": 2
}
